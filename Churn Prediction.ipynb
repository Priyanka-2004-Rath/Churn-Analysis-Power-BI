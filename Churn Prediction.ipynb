{
 "cells": [
  {
   "cell_type": "code",
   "execution_count": 2,
   "metadata": {},
   "outputs": [
    {
     "name": "stdout",
     "output_type": "stream",
     "text": [
      "  Customer_ID  Gender  Age Married      State  Number_of_Referrals  \\\n",
      "0   99510-BIH  Female   32      No      Bihar                    8   \n",
      "1   99522-ASS  Female   20     Yes      Assam                    8   \n",
      "2   99547-KAR  Female   19      No  Karnataka                   15   \n",
      "3   99549-KAR  Female   77     Yes  Karnataka                    7   \n",
      "4   99555-KAR    Male   64     Yes  Karnataka                   10   \n",
      "\n",
      "   Tenure_in_Months Value_Deal Phone_Service Multiple_Lines  ...  \\\n",
      "0                28     Deal 1           Yes             No  ...   \n",
      "1                10       None            No             No  ...   \n",
      "2                 8     Deal 4           Yes             No  ...   \n",
      "3                14     Deal 5           Yes             No  ...   \n",
      "4                26       None           Yes            Yes  ...   \n",
      "\n",
      "    Payment_Method Monthly_Charge Total_Charges Total_Refunds  \\\n",
      "0      Credit Card      68.750000   4888.200195           0.0   \n",
      "1  Bank Withdrawal      33.599998   2117.199951           0.0   \n",
      "2      Credit Card      20.299999    467.149994           0.0   \n",
      "3  Bank Withdrawal      79.550003    718.549988           0.0   \n",
      "4  Bank Withdrawal      98.750000   1587.550049           0.0   \n",
      "\n",
      "  Total_Extra_Data_Charges Total_Long_Distance_Charges Total_Revenue  \\\n",
      "0                        0                  887.039978   5775.240234   \n",
      "1                      110                    0.000000   2227.199951   \n",
      "2                        0                  506.660004    973.809998   \n",
      "3                       10                  223.649994    952.200012   \n",
      "4                        0                  242.559998   1830.109985   \n",
      "\n",
      "  Customer_Status Churn_Category                Churn_Reason  \n",
      "0          Stayed         Others                      Others  \n",
      "1          Stayed         Others                      Others  \n",
      "2          Stayed         Others                      Others  \n",
      "3          Stayed         Others                      Others  \n",
      "4         Churned       Attitude  Attitude of support person  \n",
      "\n",
      "[5 rows x 32 columns]\n"
     ]
    }
   ],
   "source": [
    "#Import libraries and load data\n",
    "import pandas as pd\n",
    "import numpy as np\n",
    "import matplotlib.pyplot as plt\n",
    "import seaborn as sns\n",
    "from sklearn.model_selection import train_test_split\n",
    "from sklearn.ensemble import RandomForestClassifier\n",
    "from sklearn.metrics import classification_report, confusion_matrix\n",
    "from sklearn.preprocessing import LabelEncoder\n",
    "import joblib\n",
    "\n",
    "# Define the path to the Excel file\n",
    "\n",
    "file_path = r\"C:\\Users\\Priyanka Rath\\Downloads\\Prediction_Data.xlsx\"\n",
    "\n",
    " \n",
    "\n",
    "# Define the sheet name to read data from\n",
    "sheet_name = 'vw_ChurnData'\n",
    "\n",
    " \n",
    "\n",
    "# Read the data from the specified sheet into a pandas DataFrame\n",
    "data = pd.read_excel(file_path, sheet_name=sheet_name)\n",
    "\n",
    " \n",
    "\n",
    "# Display the first few rows of the fetched data\n",
    "print(data.head())"
   ]
  },
  {
   "cell_type": "code",
   "execution_count": 3,
   "metadata": {},
   "outputs": [],
   "source": [
    "#Data processing\n",
    "\n",
    "# Drop columns that won't be used for prediction\n",
    "data = data.drop(['Customer_ID', 'Churn_Category', 'Churn_Reason'], axis=1)\n",
    "\n",
    "# List of columns to be label encoded\n",
    "\n",
    "columns_to_encode = [\n",
    "\n",
    "    'Gender', 'Married', 'State', 'Value_Deal', 'Phone_Service', 'Multiple_Lines',\n",
    "    'Internet_Service', 'Internet_Type', 'Online_Security', 'Online_Backup',\n",
    "    'Device_Protection_Plan', 'Premium_Support', 'Streaming_TV', 'Streaming_Movies',\n",
    "    'Streaming_Music', 'Unlimited_Data', 'Contract', 'Paperless_Billing',\n",
    "    'Payment_Method'\n",
    "]\n",
    "\n",
    "# Encode categorical variables except the target variable\n",
    "\n",
    "label_encoders = {}\n",
    "for column in columns_to_encode:\n",
    "    label_encoders[column] = LabelEncoder()\n",
    "    data[column] = label_encoders[column].fit_transform(data[column])\n",
    "    \n",
    "# Manually encode the target variable 'Customer_Status'\n",
    "data['Customer_Status'] = data['Customer_Status'].map({'Stayed': 0, 'Churned': 1})\n",
    "\n",
    "# Split data into features and target\n",
    "X = data.drop('Customer_Status', axis=1)\n",
    "y = data['Customer_Status']\n",
    "\n",
    "# Split data into training and testing sets\n",
    "X_train, X_test, y_train, y_test = train_test_split(X, y, test_size=0.2, random_state=42)"
   ]
  },
  {
   "cell_type": "code",
   "execution_count": 4,
   "metadata": {},
   "outputs": [
    {
     "data": {
      "text/plain": [
       "RandomForestClassifier(random_state=42)"
      ]
     },
     "execution_count": 4,
     "metadata": {},
     "output_type": "execute_result"
    }
   ],
   "source": [
    "# Train Random Forest Model\n",
    "\n",
    "# Initialize the Random Forest Classifier\n",
    "rf_model = RandomForestClassifier(n_estimators=100, random_state=42)\n",
    "\n",
    "\n",
    "# Train the model\n",
    "rf_model.fit(X_train, y_train)"
   ]
  },
  {
   "cell_type": "code",
   "execution_count": 5,
   "metadata": {},
   "outputs": [
    {
     "name": "stdout",
     "output_type": "stream",
     "text": [
      "Confusion Matrix:\n",
      "[[783  56]\n",
      " [140 223]]\n",
      "\n",
      "Classification Report:\n",
      "              precision    recall  f1-score   support\n",
      "\n",
      "           0       0.85      0.93      0.89       839\n",
      "           1       0.80      0.61      0.69       363\n",
      "\n",
      "    accuracy                           0.84      1202\n",
      "   macro avg       0.82      0.77      0.79      1202\n",
      "weighted avg       0.83      0.84      0.83      1202\n",
      "\n"
     ]
    },
    {
     "data": {
      "image/png": "[encoded data removed]",
      "text/plain": [
       "<Figure size 1080x432 with 1 Axes>"
      ]
     },
     "metadata": {
      "needs_background": "light"
     },
     "output_type": "display_data"
    }
   ],
   "source": [
    "#Evaluate Model\n",
    "\n",
    "# Make predictions\n",
    "y_pred = rf_model.predict(X_test)\n",
    "\n",
    "# Evaluate the model\n",
    "print(\"Confusion Matrix:\")\n",
    "print(confusion_matrix(y_test, y_pred))\n",
    "print(\"\\nClassification Report:\")\n",
    "print(classification_report(y_test, y_pred))\n",
    "\n",
    "# Feature Selection using Feature Importance\n",
    "importances = rf_model.feature_importances_\n",
    "indices = np.argsort(importances)[::-1]\n",
    "\n",
    "# Plot the feature importances\n",
    "plt.figure(figsize=(15, 6))\n",
    "sns.barplot(x=importances[indices], y=X.columns[indices])\n",
    "plt.title('Feature Importances')\n",
    "plt.xlabel('Relative Importance')\n",
    "plt.ylabel('Feature Names')\n",
    "plt.show()"
   ]
  },
  {
   "cell_type": "code",
   "execution_count": 6,
   "metadata": {},
   "outputs": [
    {
     "name": "stdout",
     "output_type": "stream",
     "text": [
      "  Customer_ID  Gender  Age Married        State  Number_of_Referrals  \\\n",
      "0   99475-KAR    Male   22     Yes    Karnataka                   11   \n",
      "1   99488-KAR    Male   50     Yes    Karnataka                   10   \n",
      "2   99515-ASS    Male   34      No        Assam                   11   \n",
      "3   99855-MAH  Female   50     Yes  Maharashtra                    5   \n",
      "4   99862-BIH  Female   30      No        Bihar                   12   \n",
      "\n",
      "   Tenure_in_Months Value_Deal Phone_Service Multiple_Lines  ...  \\\n",
      "0                11       None           Yes             No  ...   \n",
      "1                31       None            No             No  ...   \n",
      "2                11       None           Yes            Yes  ...   \n",
      "3                29       None           Yes             No  ...   \n",
      "4                 9     Deal 5           Yes             No  ...   \n",
      "\n",
      "    Payment_Method Monthly_Charge Total_Charges Total_Refunds  \\\n",
      "0      Credit Card      51.549999    106.199997           0.0   \n",
      "1      Credit Card      24.400000     24.400000           0.0   \n",
      "2      Credit Card      65.250000    209.899994           0.0   \n",
      "3  Bank Withdrawal      69.699997    135.199997           0.0   \n",
      "4  Bank Withdrawal      74.000000     74.000000           0.0   \n",
      "\n",
      "  Total_Extra_Data_Charges Total_Long_Distance_Charges Total_Revenue  \\\n",
      "0                        0                   37.220001    143.419998   \n",
      "1                        0                    0.000000     24.400000   \n",
      "2                        0                  128.039993    337.940002   \n",
      "3                        0                   31.340000    166.539993   \n",
      "4                        0                   23.700001     97.699997   \n",
      "\n",
      "  Customer_Status Churn_Category Churn_Reason  \n",
      "0          Joined         Others       Others  \n",
      "1          Joined         Others       Others  \n",
      "2          Joined         Others       Others  \n",
      "3          Joined         Others       Others  \n",
      "4          Joined         Others       Others  \n",
      "\n",
      "[5 rows x 32 columns]\n"
     ]
    }
   ],
   "source": [
    "# Define the path to the Joiner Data Excel file\n",
    "file_path = r\"C:\\Users\\Priyanka Rath\\Downloads\\Prediction_Data.xlsx\"\n",
    "\n",
    " \n",
    "# Define the sheet name to read data from\n",
    "sheet_name = 'vw_JoinData'\n",
    "\n",
    " \n",
    "# Read the data from the specified sheet into a pandas DataFrame\n",
    "new_data = pd.read_excel(file_path, sheet_name=sheet_name)\n",
    " \n",
    "# Display the first few rows of the fetched data\n",
    "print(new_data.head())\n",
    " \n",
    "# Retain the original DataFrame to preserve unencoded columns\n",
    "original_data = new_data.copy()\n",
    "\n",
    "# Retain the Customer_ID column\n",
    "customer_ids = new_data['Customer_ID']\n",
    "\n",
    "# Drop columns that won't be used for prediction in the encoded DataFrame\n",
    "new_data = new_data.drop(['Customer_ID', 'Customer_Status', 'Churn_Category', 'Churn_Reason'], axis=1)\n",
    "\n",
    "# Encode categorical variables using the saved label encoders\n",
    "for column in new_data.select_dtypes(include=['object']).columns:\n",
    "    new_data[column] = label_encoders[column].transform(new_data[column])\n",
    "\n",
    "# Make predictions\n",
    "new_predictions = rf_model.predict(new_data)\n",
    "\n",
    "# Add predictions to the original DataFrame\n",
    "original_data['Customer_Status_Predicted'] = new_predictions\n",
    "\n",
    "# Filter the DataFrame to include only records predicted as \"Churned\"\n",
    "original_data = original_data[original_data['Customer_Status_Predicted'] == 1]\n",
    "\n",
    "# Save the results\n",
    "original_data.to_csv(r\"C:\\Users\\Priyanka Rath\\Downloads\\Predictions.csv\", index=False)"
   ]
  },
  {
   "cell_type": "code",
   "execution_count": null,
   "metadata": {},
   "outputs": [],
   "source": []
  }
 ],
 "metadata": {
  "kernelspec": {
   "display_name": "Python 3",
   "language": "python",
   "name": "python3"
  },
  "language_info": {
   "codemirror_mode": {
    "name": "ipython",
    "version": 3
   },
   "file_extension": ".py",
   "mimetype": "text/x-python",
   "name": "python",
   "nbconvert_exporter": "python",
   "pygments_lexer": "ipython3",
   "version": "3.7.4"
  }
 },
 "nbformat": 4,
 "nbformat_minor": 2
}
